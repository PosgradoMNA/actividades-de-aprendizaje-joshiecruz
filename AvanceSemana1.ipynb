{
  "nbformat": 4,
  "nbformat_minor": 0,
  "metadata": {
    "colab": {
      "provenance": [],
      "authorship_tag": "ABX9TyO0rVRkaigLUDYv0rCr/Nk+",
      "include_colab_link": true
    },
    "kernelspec": {
      "name": "python3",
      "display_name": "Python 3"
    },
    "language_info": {
      "name": "python"
    }
  },
  "cells": [
    {
      "cell_type": "markdown",
      "metadata": {
        "id": "view-in-github",
        "colab_type": "text"
      },
      "source": [
        "<a href=\"https://colab.research.google.com/github/PosgradoMNA/actividades-de-aprendizaje-joshiecruz/blob/main/AvanceSemana1.ipynb\" target=\"_parent\"><img src=\"https://colab.research.google.com/assets/colab-badge.svg\" alt=\"Open In Colab\"/></a>"
      ]
    },
    {
      "cell_type": "code",
      "execution_count": 2,
      "metadata": {
        "id": "hRzIqW_KsrGV",
        "colab": {
          "base_uri": "https://localhost:8080/"
        },
        "outputId": "c8e880ba-6eed-4d4b-8c67-ac57500271ae"
      },
      "outputs": [
        {
          "output_type": "stream",
          "name": "stdout",
          "text": [
            "Hello Python 101\n",
            "Hello Python 102\n"
          ]
        }
      ],
      "source": [
        "# print Hello Python 101\n",
        "print(\"Hello Python 101\")\n",
        "print(\"Hello Python 102\")"
      ]
    },
    {
      "cell_type": "code",
      "source": [
        "# Types in Python\n",
        "#float(2):2.0\n",
        "43-60\n",
        "my_variable=1\n",
        "x=160\n",
        "y=x/6\n",
        "print(y)\n",
        "\n",
        "total_min=43+42+57\n",
        "total_hr= total_min/60"
      ],
      "metadata": {
        "colab": {
          "base_uri": "https://localhost:8080/"
        },
        "id": "ACOj_HaxGVf3",
        "outputId": "3015d7cb-76a0-4986-d25f-36fc37ee13f7"
      },
      "execution_count": 9,
      "outputs": [
        {
          "output_type": "stream",
          "name": "stdout",
          "text": [
            "26.666666666666668\n"
          ]
        }
      ]
    },
    {
      "cell_type": "code",
      "source": [
        "import sys\n",
        "\n",
        "print(sys.version)"
      ],
      "metadata": {
        "id": "k7jJBawzJNgI",
        "outputId": "d975441b-8e77-46bf-9c7b-2239a4d38bd3",
        "colab": {
          "base_uri": "https://localhost:8080/"
        }
      },
      "execution_count": 1,
      "outputs": [
        {
          "output_type": "stream",
          "name": "stdout",
          "text": [
            "3.7.14 (default, Sep  8 2022, 00:06:44) \n",
            "[GCC 7.5.0]\n"
          ]
        }
      ]
    },
    {
      "cell_type": "code",
      "source": [
        "type(12)\n",
        "type(2.14)\n",
        "type(\"hello world\")\n",
        "type(-1)"
      ],
      "metadata": {
        "id": "zaB9IopfKJbt",
        "outputId": "1c2e70b5-f182-4505-eed1-ae590ac2f7ee",
        "colab": {
          "base_uri": "https://localhost:8080/"
        }
      },
      "execution_count": 4,
      "outputs": [
        {
          "output_type": "execute_result",
          "data": {
            "text/plain": [
              "int"
            ]
          },
          "metadata": {},
          "execution_count": 4
        }
      ]
    },
    {
      "cell_type": "code",
      "source": [
        "type(float(2))\n",
        "int(\"1\")\n",
        "str(1)\n",
        "type(False)"
      ],
      "metadata": {
        "id": "CO-B6jxlKt6N",
        "outputId": "188666ba-22a4-47fd-c06a-fadea9576f9e",
        "colab": {
          "base_uri": "https://localhost:8080/"
        }
      },
      "execution_count": 9,
      "outputs": [
        {
          "output_type": "execute_result",
          "data": {
            "text/plain": [
              "bool"
            ]
          },
          "metadata": {},
          "execution_count": 9
        }
      ]
    }
  ]
}