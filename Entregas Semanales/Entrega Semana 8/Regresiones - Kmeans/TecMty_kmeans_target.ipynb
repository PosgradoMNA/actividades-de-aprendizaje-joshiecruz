{
 "cells": [
  {
   "cell_type": "markdown",
   "metadata": {
    "id": "6mUW5QNwhz5T"
   },
   "source": [
    "Este notebook se basa en información de target\n",
    "![imagen.png](https://www.america-retail.com/static//2020/12/target01.jpg)\n",
    "\n",
    "\n",
    "Ahora imagina que somos parte del equipo de data science de la empresa Target, una de las tiendas con mayor presencia en Estados Unidos. El departamento de logistica acude a nosotros para saber donde le conviene poner sus almacenes, para que se optimice el gasto de gasolina, los tiempos de entrega de los productos y se disminuyan costos. Para ello, nos pasan los datos de latitud y longitud de cada una de las tiendas.\n",
    "\n",
    "https://www.kaggle.com/datasets/saejinmahlauheinert/target-store-locations?select=target-locations.csv\n",
    "\n",
    "Si quieres saber un poco más de graficas geográficas consulta el siguiente notebook\n",
    "https://colab.research.google.com/github/QuantEcon/quantecon-notebooks-datascience/blob/master/applications/maps.ipynb#scrollTo=uo2oPtSCeAOz"
   ]
  },
  {
   "cell_type": "code",
   "execution_count": null,
   "metadata": {
    "colab": {
     "base_uri": "https://localhost:8080/"
    },
    "id": "YwkfEqinwESD",
    "outputId": "4f3f59bb-a439-4cc0-bf4b-e86aa3702621"
   },
   "outputs": [
    {
     "name": "stdout",
     "output_type": "stream",
     "text": [
      "Looking in indexes: https://pypi.org/simple, https://us-python.pkg.dev/colab-wheels/public/simple/\n",
      "Collecting qeds\n",
      "  Downloading qeds-0.7.0.tar.gz (24 kB)\n",
      "Requirement already satisfied: fiona in /usr/local/lib/python3.7/dist-packages (1.8.22)\n",
      "Requirement already satisfied: geopandas in /usr/local/lib/python3.7/dist-packages (0.10.2)\n",
      "Requirement already satisfied: xgboost in /usr/local/lib/python3.7/dist-packages (0.90)\n",
      "Requirement already satisfied: gensim in /usr/local/lib/python3.7/dist-packages (3.6.0)\n",
      "Requirement already satisfied: folium in /usr/local/lib/python3.7/dist-packages (0.12.1.post1)\n",
      "Collecting pyLDAvis\n",
      "  Downloading pyLDAvis-3.3.1.tar.gz (1.7 MB)\n",
      "\u001b[K     |████████████████████████████████| 1.7 MB 11.7 MB/s \n",
      "\u001b[?25h  Installing build dependencies ... \u001b[?25l\u001b[?25hdone\n",
      "  Getting requirements to build wheel ... \u001b[?25l\u001b[?25hdone\n",
      "  Installing backend dependencies ... \u001b[?25l\u001b[?25hdone\n",
      "    Preparing wheel metadata ... \u001b[?25l\u001b[?25hdone\n",
      "Requirement already satisfied: descartes in /usr/local/lib/python3.7/dist-packages (1.1.0)\n",
      "Requirement already satisfied: pandas in /usr/local/lib/python3.7/dist-packages (from qeds) (1.3.5)\n",
      "Requirement already satisfied: requests in /usr/local/lib/python3.7/dist-packages (from qeds) (2.23.0)\n",
      "Collecting quandl\n",
      "  Downloading Quandl-3.7.0-py2.py3-none-any.whl (26 kB)\n",
      "Requirement already satisfied: scipy in /usr/local/lib/python3.7/dist-packages (from qeds) (1.7.3)\n",
      "Requirement already satisfied: numpy in /usr/local/lib/python3.7/dist-packages (from qeds) (1.21.6)\n",
      "Collecting quantecon\n",
      "  Downloading quantecon-0.5.3-py3-none-any.whl (179 kB)\n",
      "\u001b[K     |████████████████████████████████| 179 kB 51.7 MB/s \n",
      "\u001b[?25hRequirement already satisfied: matplotlib in /usr/local/lib/python3.7/dist-packages (from qeds) (3.2.2)\n",
      "Requirement already satisfied: pyarrow in /usr/local/lib/python3.7/dist-packages (from qeds) (6.0.1)\n",
      "Requirement already satisfied: openpyxl in /usr/local/lib/python3.7/dist-packages (from qeds) (3.0.10)\n",
      "Requirement already satisfied: plotly in /usr/local/lib/python3.7/dist-packages (from qeds) (5.5.0)\n",
      "Requirement already satisfied: pandas_datareader in /usr/local/lib/python3.7/dist-packages (from qeds) (0.9.0)\n",
      "Requirement already satisfied: scikit-learn in /usr/local/lib/python3.7/dist-packages (from qeds) (1.0.2)\n",
      "Requirement already satisfied: seaborn in /usr/local/lib/python3.7/dist-packages (from qeds) (0.11.2)\n",
      "Requirement already satisfied: statsmodels in /usr/local/lib/python3.7/dist-packages (from qeds) (0.12.2)\n",
      "Requirement already satisfied: cligj>=0.5 in /usr/local/lib/python3.7/dist-packages (from fiona) (0.7.2)\n",
      "Requirement already satisfied: click>=4.0 in /usr/local/lib/python3.7/dist-packages (from fiona) (7.1.2)\n",
      "Requirement already satisfied: click-plugins>=1.0 in /usr/local/lib/python3.7/dist-packages (from fiona) (1.1.1)\n",
      "Requirement already satisfied: certifi in /usr/local/lib/python3.7/dist-packages (from fiona) (2022.9.24)\n",
      "Requirement already satisfied: six>=1.7 in /usr/local/lib/python3.7/dist-packages (from fiona) (1.15.0)\n",
      "Requirement already satisfied: attrs>=17 in /usr/local/lib/python3.7/dist-packages (from fiona) (22.1.0)\n",
      "Requirement already satisfied: munch in /usr/local/lib/python3.7/dist-packages (from fiona) (2.5.0)\n",
      "Requirement already satisfied: setuptools in /usr/local/lib/python3.7/dist-packages (from fiona) (57.4.0)\n",
      "Requirement already satisfied: shapely>=1.6 in /usr/local/lib/python3.7/dist-packages (from geopandas) (1.8.5.post1)\n",
      "Requirement already satisfied: pyproj>=2.2.0 in /usr/local/lib/python3.7/dist-packages (from geopandas) (3.2.1)\n",
      "Requirement already satisfied: pytz>=2017.3 in /usr/local/lib/python3.7/dist-packages (from pandas->qeds) (2022.5)\n",
      "Requirement already satisfied: python-dateutil>=2.7.3 in /usr/local/lib/python3.7/dist-packages (from pandas->qeds) (2.8.2)\n",
      "Requirement already satisfied: smart-open>=1.2.1 in /usr/local/lib/python3.7/dist-packages (from gensim) (5.2.1)\n",
      "Requirement already satisfied: jinja2>=2.9 in /usr/local/lib/python3.7/dist-packages (from folium) (2.11.3)\n",
      "Requirement already satisfied: branca>=0.3.0 in /usr/local/lib/python3.7/dist-packages (from folium) (0.5.0)\n",
      "Requirement already satisfied: MarkupSafe>=0.23 in /usr/local/lib/python3.7/dist-packages (from jinja2>=2.9->folium) (2.0.1)\n",
      "Requirement already satisfied: joblib in /usr/local/lib/python3.7/dist-packages (from pyLDAvis) (1.2.0)\n",
      "Requirement already satisfied: numexpr in /usr/local/lib/python3.7/dist-packages (from pyLDAvis) (2.8.4)\n",
      "Collecting sklearn\n",
      "  Downloading sklearn-0.0.tar.gz (1.1 kB)\n",
      "Collecting funcy\n",
      "  Downloading funcy-1.17-py2.py3-none-any.whl (33 kB)\n",
      "Requirement already satisfied: future in /usr/local/lib/python3.7/dist-packages (from pyLDAvis) (0.16.0)\n",
      "Requirement already satisfied: pyparsing!=2.0.4,!=2.1.2,!=2.1.6,>=2.0.1 in /usr/local/lib/python3.7/dist-packages (from matplotlib->qeds) (3.0.9)\n",
      "Requirement already satisfied: cycler>=0.10 in /usr/local/lib/python3.7/dist-packages (from matplotlib->qeds) (0.11.0)\n",
      "Requirement already satisfied: kiwisolver>=1.0.1 in /usr/local/lib/python3.7/dist-packages (from matplotlib->qeds) (1.4.4)\n",
      "Requirement already satisfied: typing-extensions in /usr/local/lib/python3.7/dist-packages (from kiwisolver>=1.0.1->matplotlib->qeds) (4.1.1)\n",
      "Requirement already satisfied: et-xmlfile in /usr/local/lib/python3.7/dist-packages (from openpyxl->qeds) (1.1.0)\n",
      "Requirement already satisfied: lxml in /usr/local/lib/python3.7/dist-packages (from pandas_datareader->qeds) (4.9.1)\n",
      "Requirement already satisfied: idna<3,>=2.5 in /usr/local/lib/python3.7/dist-packages (from requests->qeds) (2.10)\n",
      "Requirement already satisfied: urllib3!=1.25.0,!=1.25.1,<1.26,>=1.21.1 in /usr/local/lib/python3.7/dist-packages (from requests->qeds) (1.24.3)\n",
      "Requirement already satisfied: chardet<4,>=3.0.2 in /usr/local/lib/python3.7/dist-packages (from requests->qeds) (3.0.4)\n",
      "Requirement already satisfied: tenacity>=6.2.0 in /usr/local/lib/python3.7/dist-packages (from plotly->qeds) (8.1.0)\n",
      "Collecting inflection>=0.3.1\n",
      "  Downloading inflection-0.5.1-py2.py3-none-any.whl (9.5 kB)\n",
      "Requirement already satisfied: more-itertools in /usr/local/lib/python3.7/dist-packages (from quandl->qeds) (9.0.0)\n",
      "Requirement already satisfied: sympy in /usr/local/lib/python3.7/dist-packages (from quantecon->qeds) (1.7.1)\n",
      "Requirement already satisfied: numba in /usr/local/lib/python3.7/dist-packages (from quantecon->qeds) (0.56.3)\n",
      "Requirement already satisfied: llvmlite<0.40,>=0.39.0dev0 in /usr/local/lib/python3.7/dist-packages (from numba->quantecon->qeds) (0.39.1)\n",
      "Requirement already satisfied: importlib-metadata in /usr/local/lib/python3.7/dist-packages (from numba->quantecon->qeds) (4.13.0)\n",
      "Requirement already satisfied: zipp>=0.5 in /usr/local/lib/python3.7/dist-packages (from importlib-metadata->numba->quantecon->qeds) (3.10.0)\n",
      "Requirement already satisfied: threadpoolctl>=2.0.0 in /usr/local/lib/python3.7/dist-packages (from scikit-learn->qeds) (3.1.0)\n",
      "Requirement already satisfied: patsy>=0.5 in /usr/local/lib/python3.7/dist-packages (from statsmodels->qeds) (0.5.3)\n",
      "Requirement already satisfied: mpmath>=0.19 in /usr/local/lib/python3.7/dist-packages (from sympy->quantecon->qeds) (1.2.1)\n",
      "Building wheels for collected packages: qeds, pyLDAvis, sklearn\n",
      "  Building wheel for qeds (setup.py) ... \u001b[?25l\u001b[?25hdone\n",
      "  Created wheel for qeds: filename=qeds-0.7.0-py3-none-any.whl size=27813 sha256=8d418578ff6f0382a3bbef3423720e3e935ff656f4d385bbfd9fc641f52daa53\n",
      "  Stored in directory: /root/.cache/pip/wheels/fc/8c/52/0cc036b9730b75850b9845770780f8d05ed08ff38a67cbaa29\n",
      "  Building wheel for pyLDAvis (PEP 517) ... \u001b[?25l\u001b[?25hdone\n",
      "  Created wheel for pyLDAvis: filename=pyLDAvis-3.3.1-py2.py3-none-any.whl size=136898 sha256=9346a31008a72cefdf3d4ad5255e501b622fe38cba6a89bf14387aba7ffb04c9\n",
      "  Stored in directory: /root/.cache/pip/wheels/c9/21/f6/17bcf2667e8a68532ba2fbf6d5c72fdf4c7f7d9abfa4852d2f\n",
      "  Building wheel for sklearn (setup.py) ... \u001b[?25l\u001b[?25hdone\n",
      "  Created wheel for sklearn: filename=sklearn-0.0-py2.py3-none-any.whl size=1310 sha256=77d4e75de58d45b55554e4fab35856d4925a5ef687a517b1a71818b94268eb82\n",
      "  Stored in directory: /root/.cache/pip/wheels/46/ef/c3/157e41f5ee1372d1be90b09f74f82b10e391eaacca8f22d33e\n",
      "Successfully built qeds pyLDAvis sklearn\n",
      "Installing collected packages: inflection, sklearn, quantecon, quandl, funcy, qeds, pyLDAvis\n",
      "Successfully installed funcy-1.17 inflection-0.5.1 pyLDAvis-3.3.1 qeds-0.7.0 quandl-3.7.0 quantecon-0.5.3 sklearn-0.0\n"
     ]
    }
   ],
   "source": [
    "! pip install qeds fiona geopandas xgboost gensim folium pyLDAvis descartes"
   ]
  },
  {
   "cell_type": "code",
   "execution_count": 4,
   "metadata": {
    "id": "WBpdGjbquQii"
   },
   "outputs": [],
   "source": [
    "import pandas as pd\n",
    "import numpy as np\n",
    "#from tqdm import tqdm\n",
    "%matplotlib inline\n",
    "import numpy as np\n",
    "import matplotlib.pyplot as plt\n",
    "import geopandas"
   ]
  },
  {
   "cell_type": "markdown",
   "metadata": {
    "id": "KNTIoZlGvPum"
   },
   "source": [
    "Importa la base de datos"
   ]
  },
  {
   "cell_type": "code",
   "execution_count": 5,
   "metadata": {
    "id": "PAJWHRVN781V"
   },
   "outputs": [],
   "source": [
    "url=\"https://raw.githubusercontent.com/marypazrf/bdd/main/target-locations.csv\"\n",
    "df=pd.read_csv(url)"
   ]
  },
  {
   "cell_type": "markdown",
   "metadata": {
    "id": "sH4hvPAYvUGY"
   },
   "source": [
    "Exploremos los datos."
   ]
  },
  {
   "cell_type": "code",
   "execution_count": 6,
   "metadata": {
    "colab": {
     "base_uri": "https://localhost:8080/",
     "height": 206
    },
    "id": "DuzNp7KseyBg",
    "outputId": "9d08c3b6-e45a-4175-b61f-f84fbb9e3704"
   },
   "outputs": [
    {
     "data": {
      "text/html": [
       "<div>\n",
       "<style scoped>\n",
       "    .dataframe tbody tr th:only-of-type {\n",
       "        vertical-align: middle;\n",
       "    }\n",
       "\n",
       "    .dataframe tbody tr th {\n",
       "        vertical-align: top;\n",
       "    }\n",
       "\n",
       "    .dataframe thead th {\n",
       "        text-align: right;\n",
       "    }\n",
       "</style>\n",
       "<table border=\"1\" class=\"dataframe\">\n",
       "  <thead>\n",
       "    <tr style=\"text-align: right;\">\n",
       "      <th></th>\n",
       "      <th>name</th>\n",
       "      <th>latitude</th>\n",
       "      <th>longitude</th>\n",
       "      <th>address</th>\n",
       "      <th>phone</th>\n",
       "      <th>website</th>\n",
       "    </tr>\n",
       "  </thead>\n",
       "  <tbody>\n",
       "    <tr>\n",
       "      <th>0</th>\n",
       "      <td>Alabaster</td>\n",
       "      <td>33.224225</td>\n",
       "      <td>-86.804174</td>\n",
       "      <td>250 S Colonial Dr, Alabaster, AL 35007-4657</td>\n",
       "      <td>205-564-2608</td>\n",
       "      <td>https://www.target.com/sl/alabaster/2276</td>\n",
       "    </tr>\n",
       "    <tr>\n",
       "      <th>1</th>\n",
       "      <td>Bessemer</td>\n",
       "      <td>33.334550</td>\n",
       "      <td>-86.989778</td>\n",
       "      <td>4889 Promenade Pkwy, Bessemer, AL 35022-7305</td>\n",
       "      <td>205-565-3760</td>\n",
       "      <td>https://www.target.com/sl/bessemer/2375</td>\n",
       "    </tr>\n",
       "    <tr>\n",
       "      <th>2</th>\n",
       "      <td>Daphne</td>\n",
       "      <td>30.602875</td>\n",
       "      <td>-87.895932</td>\n",
       "      <td>1698 US Highway 98, Daphne, AL 36526-4252</td>\n",
       "      <td>251-621-3540</td>\n",
       "      <td>https://www.target.com/sl/daphne/1274</td>\n",
       "    </tr>\n",
       "    <tr>\n",
       "      <th>3</th>\n",
       "      <td>Decatur</td>\n",
       "      <td>34.560148</td>\n",
       "      <td>-86.971559</td>\n",
       "      <td>1235 Point Mallard Pkwy SE, Decatur, AL 35601-...</td>\n",
       "      <td>256-898-3036</td>\n",
       "      <td>https://www.target.com/sl/decatur/2084</td>\n",
       "    </tr>\n",
       "    <tr>\n",
       "      <th>4</th>\n",
       "      <td>Dothan</td>\n",
       "      <td>31.266061</td>\n",
       "      <td>-85.446422</td>\n",
       "      <td>4601 Montgomery Hwy, Dothan, AL 36303-1522</td>\n",
       "      <td>334-340-1112</td>\n",
       "      <td>https://www.target.com/sl/dothan/1468</td>\n",
       "    </tr>\n",
       "  </tbody>\n",
       "</table>\n",
       "</div>"
      ],
      "text/plain": [
       "        name   latitude  longitude  \\\n",
       "0  Alabaster  33.224225 -86.804174   \n",
       "1   Bessemer  33.334550 -86.989778   \n",
       "2     Daphne  30.602875 -87.895932   \n",
       "3    Decatur  34.560148 -86.971559   \n",
       "4     Dothan  31.266061 -85.446422   \n",
       "\n",
       "                                             address         phone  \\\n",
       "0        250 S Colonial Dr, Alabaster, AL 35007-4657  205-564-2608   \n",
       "1       4889 Promenade Pkwy, Bessemer, AL 35022-7305  205-565-3760   \n",
       "2          1698 US Highway 98, Daphne, AL 36526-4252  251-621-3540   \n",
       "3  1235 Point Mallard Pkwy SE, Decatur, AL 35601-...  256-898-3036   \n",
       "4         4601 Montgomery Hwy, Dothan, AL 36303-1522  334-340-1112   \n",
       "\n",
       "                                    website  \n",
       "0  https://www.target.com/sl/alabaster/2276  \n",
       "1   https://www.target.com/sl/bessemer/2375  \n",
       "2     https://www.target.com/sl/daphne/1274  \n",
       "3    https://www.target.com/sl/decatur/2084  \n",
       "4     https://www.target.com/sl/dothan/1468  "
      ]
     },
     "execution_count": 6,
     "metadata": {},
     "output_type": "execute_result"
    }
   ],
   "source": [
    "\n",
    "df.head()\n"
   ]
  },
  {
   "cell_type": "code",
   "execution_count": 7,
   "metadata": {
    "colab": {
     "base_uri": "https://localhost:8080/"
    },
    "id": "MxbhdLkavl7Q",
    "outputId": "a8717c27-b24d-4d71-9153-3f94ee0db339"
   },
   "outputs": [
    {
     "name": "stdout",
     "output_type": "stream",
     "text": [
      "<class 'pandas.core.frame.DataFrame'>\n",
      "RangeIndex: 1839 entries, 0 to 1838\n",
      "Data columns (total 6 columns):\n",
      " #   Column     Non-Null Count  Dtype  \n",
      "---  ------     --------------  -----  \n",
      " 0   name       1839 non-null   object \n",
      " 1   latitude   1839 non-null   float64\n",
      " 2   longitude  1839 non-null   float64\n",
      " 3   address    1839 non-null   object \n",
      " 4   phone      1839 non-null   object \n",
      " 5   website    1839 non-null   object \n",
      "dtypes: float64(2), object(4)\n",
      "memory usage: 86.3+ KB\n"
     ]
    }
   ],
   "source": [
    "df.info()"
   ]
  },
  {
   "cell_type": "markdown",
   "metadata": {
    "id": "cpfqKT4qxAZz"
   },
   "source": [
    "**Definición de Latitud y Longitud**\n",
    "\n",
    "**Latitud** Es la distancia en grados, minutos y segundos que hay con respecto al paralelo principal, que es el ecuador (0º). La latitud puede ser norte y sur.\n",
    "\n",
    "**Longitud**: Es la distancia en grados, minutos y segundos que hay con respecto al meridiano principal, que es el meridiano de Greenwich (0º).La longitud puede ser este y oeste."
   ]
  },
  {
   "cell_type": "code",
   "execution_count": 8,
   "metadata": {
    "id": "oPzX3DGju0As"
   },
   "outputs": [],
   "source": [
    "latlong=df[[\"latitude\",\"longitude\"]]"
   ]
  },
  {
   "cell_type": "code",
   "execution_count": null,
   "metadata": {
    "id": "n4QKgxn4e6V0"
   },
   "outputs": [],
   "source": []
  },
  {
   "cell_type": "markdown",
   "metadata": {
    "id": "gMk6UVE2e67y"
   },
   "source": [
    "¡Visualizemos los datos!, para empezar a notar algún patron. \n",
    "\n",
    "A simple vista pudieramos pensar que tenemos algunos datos atípicos u outliers, pero .... no es así, simplemente esta grafica no nos está dando toda la información."
   ]
  },
  {
   "cell_type": "code",
   "execution_count": 9,
   "metadata": {
    "colab": {
     "base_uri": "https://localhost:8080/",
     "height": 297
    },
    "id": "-QZRqKiDfj2J",
    "outputId": "a58414cd-78fd-4d51-d02e-0abbc46caeee"
   },
   "outputs": [
    {
     "data": {
      "text/plain": [
       "<AxesSubplot: xlabel='longitude', ylabel='latitude'>"
      ]
     },
     "execution_count": 9,
     "metadata": {},
     "output_type": "execute_result"
    },
    {
     "data": {
      "image/png": "[encoded data removed]",
      "text/plain": [
       "<Figure size 640x480 with 1 Axes>"
      ]
     },
     "metadata": {},
     "output_type": "display_data"
    }
   ],
   "source": [
    "#extrae los datos interesantes\n",
    "latlong.plot.scatter( \"longitude\",\"latitude\")"
   ]
  },
  {
   "cell_type": "code",
   "execution_count": 10,
   "metadata": {
    "colab": {
     "base_uri": "https://localhost:8080/",
     "height": 300
    },
    "id": "O6b3QguyyjM_",
    "outputId": "3acf887d-944c-4cf0-849d-471fa614c795"
   },
   "outputs": [
    {
     "data": {
      "text/html": [
       "<div>\n",
       "<style scoped>\n",
       "    .dataframe tbody tr th:only-of-type {\n",
       "        vertical-align: middle;\n",
       "    }\n",
       "\n",
       "    .dataframe tbody tr th {\n",
       "        vertical-align: top;\n",
       "    }\n",
       "\n",
       "    .dataframe thead th {\n",
       "        text-align: right;\n",
       "    }\n",
       "</style>\n",
       "<table border=\"1\" class=\"dataframe\">\n",
       "  <thead>\n",
       "    <tr style=\"text-align: right;\">\n",
       "      <th></th>\n",
       "      <th>latitude</th>\n",
       "      <th>longitude</th>\n",
       "    </tr>\n",
       "  </thead>\n",
       "  <tbody>\n",
       "    <tr>\n",
       "      <th>count</th>\n",
       "      <td>1839.000000</td>\n",
       "      <td>1839.000000</td>\n",
       "    </tr>\n",
       "    <tr>\n",
       "      <th>mean</th>\n",
       "      <td>37.791238</td>\n",
       "      <td>-91.986881</td>\n",
       "    </tr>\n",
       "    <tr>\n",
       "      <th>std</th>\n",
       "      <td>5.272299</td>\n",
       "      <td>16.108046</td>\n",
       "    </tr>\n",
       "    <tr>\n",
       "      <th>min</th>\n",
       "      <td>19.647855</td>\n",
       "      <td>-159.376962</td>\n",
       "    </tr>\n",
       "    <tr>\n",
       "      <th>25%</th>\n",
       "      <td>33.882605</td>\n",
       "      <td>-98.268828</td>\n",
       "    </tr>\n",
       "    <tr>\n",
       "      <th>50%</th>\n",
       "      <td>38.955432</td>\n",
       "      <td>-87.746346</td>\n",
       "    </tr>\n",
       "    <tr>\n",
       "      <th>75%</th>\n",
       "      <td>41.658341</td>\n",
       "      <td>-80.084833</td>\n",
       "    </tr>\n",
       "    <tr>\n",
       "      <th>max</th>\n",
       "      <td>61.577919</td>\n",
       "      <td>-68.742331</td>\n",
       "    </tr>\n",
       "  </tbody>\n",
       "</table>\n",
       "</div>"
      ],
      "text/plain": [
       "          latitude    longitude\n",
       "count  1839.000000  1839.000000\n",
       "mean     37.791238   -91.986881\n",
       "std       5.272299    16.108046\n",
       "min      19.647855  -159.376962\n",
       "25%      33.882605   -98.268828\n",
       "50%      38.955432   -87.746346\n",
       "75%      41.658341   -80.084833\n",
       "max      61.577919   -68.742331"
      ]
     },
     "execution_count": 10,
     "metadata": {},
     "output_type": "execute_result"
    }
   ],
   "source": [
    "latlong.describe()"
   ]
  },
  {
   "cell_type": "markdown",
   "metadata": {
    "id": "hkPMyAyIDunz"
   },
   "source": [
    "Para entender un poco más, nos auxiliaremos de una librería para graficar datos geográficos. Esto nos ayudara a tener un mejor entendimiento de ellos.\n",
    "\n",
    "\n"
   ]
  },
  {
   "cell_type": "code",
   "execution_count": 13,
   "metadata": {
    "id": "_blyM4esyJTu"
   },
   "outputs": [],
   "source": [
    "import geopandas as gpd\n",
    "import matplotlib.pyplot as plt\n",
    "import pandas as pd\n",
    "\n",
    "from shapely.geometry import Point\n",
    "\n",
    "%matplotlib inline\n",
    "# activate plot theme\n",
    "import qeds\n",
    "qeds.themes.mpl_style();"
   ]
  },
  {
   "cell_type": "code",
   "execution_count": 14,
   "metadata": {
    "colab": {
     "base_uri": "https://localhost:8080/",
     "height": 206
    },
    "id": "01i0TciKfPco",
    "outputId": "3662ce4c-9349-4aba-fc07-e8d4c3eac83a"
   },
   "outputs": [
    {
     "data": {
      "text/html": [
       "<div>\n",
       "<style scoped>\n",
       "    .dataframe tbody tr th:only-of-type {\n",
       "        vertical-align: middle;\n",
       "    }\n",
       "\n",
       "    .dataframe tbody tr th {\n",
       "        vertical-align: top;\n",
       "    }\n",
       "\n",
       "    .dataframe thead th {\n",
       "        text-align: right;\n",
       "    }\n",
       "</style>\n",
       "<table border=\"1\" class=\"dataframe\">\n",
       "  <thead>\n",
       "    <tr style=\"text-align: right;\">\n",
       "      <th></th>\n",
       "      <th>name</th>\n",
       "      <th>latitude</th>\n",
       "      <th>longitude</th>\n",
       "      <th>address</th>\n",
       "      <th>phone</th>\n",
       "      <th>website</th>\n",
       "      <th>Coordinates</th>\n",
       "    </tr>\n",
       "  </thead>\n",
       "  <tbody>\n",
       "    <tr>\n",
       "      <th>0</th>\n",
       "      <td>Alabaster</td>\n",
       "      <td>33.224225</td>\n",
       "      <td>-86.804174</td>\n",
       "      <td>250 S Colonial Dr, Alabaster, AL 35007-4657</td>\n",
       "      <td>205-564-2608</td>\n",
       "      <td>https://www.target.com/sl/alabaster/2276</td>\n",
       "      <td>POINT (-86.80417369999999 33.2242254)</td>\n",
       "    </tr>\n",
       "    <tr>\n",
       "      <th>1</th>\n",
       "      <td>Bessemer</td>\n",
       "      <td>33.334550</td>\n",
       "      <td>-86.989778</td>\n",
       "      <td>4889 Promenade Pkwy, Bessemer, AL 35022-7305</td>\n",
       "      <td>205-565-3760</td>\n",
       "      <td>https://www.target.com/sl/bessemer/2375</td>\n",
       "      <td>POINT (-86.98977789999999 33.3345501)</td>\n",
       "    </tr>\n",
       "    <tr>\n",
       "      <th>2</th>\n",
       "      <td>Daphne</td>\n",
       "      <td>30.602875</td>\n",
       "      <td>-87.895932</td>\n",
       "      <td>1698 US Highway 98, Daphne, AL 36526-4252</td>\n",
       "      <td>251-621-3540</td>\n",
       "      <td>https://www.target.com/sl/daphne/1274</td>\n",
       "      <td>POINT (-87.89593169999999 30.6028747)</td>\n",
       "    </tr>\n",
       "    <tr>\n",
       "      <th>3</th>\n",
       "      <td>Decatur</td>\n",
       "      <td>34.560148</td>\n",
       "      <td>-86.971559</td>\n",
       "      <td>1235 Point Mallard Pkwy SE, Decatur, AL 35601-...</td>\n",
       "      <td>256-898-3036</td>\n",
       "      <td>https://www.target.com/sl/decatur/2084</td>\n",
       "      <td>POINT (-86.9715595 34.5601477)</td>\n",
       "    </tr>\n",
       "    <tr>\n",
       "      <th>4</th>\n",
       "      <td>Dothan</td>\n",
       "      <td>31.266061</td>\n",
       "      <td>-85.446422</td>\n",
       "      <td>4601 Montgomery Hwy, Dothan, AL 36303-1522</td>\n",
       "      <td>334-340-1112</td>\n",
       "      <td>https://www.target.com/sl/dothan/1468</td>\n",
       "      <td>POINT (-85.4464222 31.2660613)</td>\n",
       "    </tr>\n",
       "  </tbody>\n",
       "</table>\n",
       "</div>"
      ],
      "text/plain": [
       "        name   latitude  longitude  \\\n",
       "0  Alabaster  33.224225 -86.804174   \n",
       "1   Bessemer  33.334550 -86.989778   \n",
       "2     Daphne  30.602875 -87.895932   \n",
       "3    Decatur  34.560148 -86.971559   \n",
       "4     Dothan  31.266061 -85.446422   \n",
       "\n",
       "                                             address         phone  \\\n",
       "0        250 S Colonial Dr, Alabaster, AL 35007-4657  205-564-2608   \n",
       "1       4889 Promenade Pkwy, Bessemer, AL 35022-7305  205-565-3760   \n",
       "2          1698 US Highway 98, Daphne, AL 36526-4252  251-621-3540   \n",
       "3  1235 Point Mallard Pkwy SE, Decatur, AL 35601-...  256-898-3036   \n",
       "4         4601 Montgomery Hwy, Dothan, AL 36303-1522  334-340-1112   \n",
       "\n",
       "                                    website  \\\n",
       "0  https://www.target.com/sl/alabaster/2276   \n",
       "1   https://www.target.com/sl/bessemer/2375   \n",
       "2     https://www.target.com/sl/daphne/1274   \n",
       "3    https://www.target.com/sl/decatur/2084   \n",
       "4     https://www.target.com/sl/dothan/1468   \n",
       "\n",
       "                             Coordinates  \n",
       "0  POINT (-86.80417369999999 33.2242254)  \n",
       "1  POINT (-86.98977789999999 33.3345501)  \n",
       "2  POINT (-87.89593169999999 30.6028747)  \n",
       "3         POINT (-86.9715595 34.5601477)  \n",
       "4         POINT (-85.4464222 31.2660613)  "
      ]
     },
     "execution_count": 14,
     "metadata": {},
     "output_type": "execute_result"
    }
   ],
   "source": [
    "df[\"Coordinates\"] = list(zip(df.longitude, df.latitude))\n",
    "df[\"Coordinates\"] = df[\"Coordinates\"].apply(Point)\n",
    "df.head()"
   ]
  },
  {
   "cell_type": "code",
   "execution_count": 15,
   "metadata": {
    "colab": {
     "base_uri": "https://localhost:8080/",
     "height": 206
    },
    "id": "SBTBrsvlfIU_",
    "outputId": "f25de2e3-840d-4945-a174-eea2fa7f441d"
   },
   "outputs": [
    {
     "data": {
      "text/html": [
       "<div>\n",
       "<style scoped>\n",
       "    .dataframe tbody tr th:only-of-type {\n",
       "        vertical-align: middle;\n",
       "    }\n",
       "\n",
       "    .dataframe tbody tr th {\n",
       "        vertical-align: top;\n",
       "    }\n",
       "\n",
       "    .dataframe thead th {\n",
       "        text-align: right;\n",
       "    }\n",
       "</style>\n",
       "<table border=\"1\" class=\"dataframe\">\n",
       "  <thead>\n",
       "    <tr style=\"text-align: right;\">\n",
       "      <th></th>\n",
       "      <th>name</th>\n",
       "      <th>latitude</th>\n",
       "      <th>longitude</th>\n",
       "      <th>address</th>\n",
       "      <th>phone</th>\n",
       "      <th>website</th>\n",
       "      <th>Coordinates</th>\n",
       "    </tr>\n",
       "  </thead>\n",
       "  <tbody>\n",
       "    <tr>\n",
       "      <th>0</th>\n",
       "      <td>Alabaster</td>\n",
       "      <td>33.224225</td>\n",
       "      <td>-86.804174</td>\n",
       "      <td>250 S Colonial Dr, Alabaster, AL 35007-4657</td>\n",
       "      <td>205-564-2608</td>\n",
       "      <td>https://www.target.com/sl/alabaster/2276</td>\n",
       "      <td>POINT (-86.80417 33.22423)</td>\n",
       "    </tr>\n",
       "    <tr>\n",
       "      <th>1</th>\n",
       "      <td>Bessemer</td>\n",
       "      <td>33.334550</td>\n",
       "      <td>-86.989778</td>\n",
       "      <td>4889 Promenade Pkwy, Bessemer, AL 35022-7305</td>\n",
       "      <td>205-565-3760</td>\n",
       "      <td>https://www.target.com/sl/bessemer/2375</td>\n",
       "      <td>POINT (-86.98978 33.33455)</td>\n",
       "    </tr>\n",
       "    <tr>\n",
       "      <th>2</th>\n",
       "      <td>Daphne</td>\n",
       "      <td>30.602875</td>\n",
       "      <td>-87.895932</td>\n",
       "      <td>1698 US Highway 98, Daphne, AL 36526-4252</td>\n",
       "      <td>251-621-3540</td>\n",
       "      <td>https://www.target.com/sl/daphne/1274</td>\n",
       "      <td>POINT (-87.89593 30.60287)</td>\n",
       "    </tr>\n",
       "    <tr>\n",
       "      <th>3</th>\n",
       "      <td>Decatur</td>\n",
       "      <td>34.560148</td>\n",
       "      <td>-86.971559</td>\n",
       "      <td>1235 Point Mallard Pkwy SE, Decatur, AL 35601-...</td>\n",
       "      <td>256-898-3036</td>\n",
       "      <td>https://www.target.com/sl/decatur/2084</td>\n",
       "      <td>POINT (-86.97156 34.56015)</td>\n",
       "    </tr>\n",
       "    <tr>\n",
       "      <th>4</th>\n",
       "      <td>Dothan</td>\n",
       "      <td>31.266061</td>\n",
       "      <td>-85.446422</td>\n",
       "      <td>4601 Montgomery Hwy, Dothan, AL 36303-1522</td>\n",
       "      <td>334-340-1112</td>\n",
       "      <td>https://www.target.com/sl/dothan/1468</td>\n",
       "      <td>POINT (-85.44642 31.26606)</td>\n",
       "    </tr>\n",
       "  </tbody>\n",
       "</table>\n",
       "</div>"
      ],
      "text/plain": [
       "        name   latitude  longitude  \\\n",
       "0  Alabaster  33.224225 -86.804174   \n",
       "1   Bessemer  33.334550 -86.989778   \n",
       "2     Daphne  30.602875 -87.895932   \n",
       "3    Decatur  34.560148 -86.971559   \n",
       "4     Dothan  31.266061 -85.446422   \n",
       "\n",
       "                                             address         phone  \\\n",
       "0        250 S Colonial Dr, Alabaster, AL 35007-4657  205-564-2608   \n",
       "1       4889 Promenade Pkwy, Bessemer, AL 35022-7305  205-565-3760   \n",
       "2          1698 US Highway 98, Daphne, AL 36526-4252  251-621-3540   \n",
       "3  1235 Point Mallard Pkwy SE, Decatur, AL 35601-...  256-898-3036   \n",
       "4         4601 Montgomery Hwy, Dothan, AL 36303-1522  334-340-1112   \n",
       "\n",
       "                                    website                 Coordinates  \n",
       "0  https://www.target.com/sl/alabaster/2276  POINT (-86.80417 33.22423)  \n",
       "1   https://www.target.com/sl/bessemer/2375  POINT (-86.98978 33.33455)  \n",
       "2     https://www.target.com/sl/daphne/1274  POINT (-87.89593 30.60287)  \n",
       "3    https://www.target.com/sl/decatur/2084  POINT (-86.97156 34.56015)  \n",
       "4     https://www.target.com/sl/dothan/1468  POINT (-85.44642 31.26606)  "
      ]
     },
     "execution_count": 15,
     "metadata": {},
     "output_type": "execute_result"
    }
   ],
   "source": [
    "gdf = gpd.GeoDataFrame(df, geometry=\"Coordinates\")\n",
    "gdf.head()"
   ]
  },
  {
   "cell_type": "code",
   "execution_count": 16,
   "metadata": {
    "colab": {
     "base_uri": "https://localhost:8080/",
     "height": 237
    },
    "id": "wB6Jkrvbfef1",
    "outputId": "1ea8bb73-a723-4998-98a6-e0ee92deaa31"
   },
   "outputs": [
    {
     "data": {
      "text/html": [
       "<div>\n",
       "<style scoped>\n",
       "    .dataframe tbody tr th:only-of-type {\n",
       "        vertical-align: middle;\n",
       "    }\n",
       "\n",
       "    .dataframe tbody tr th {\n",
       "        vertical-align: top;\n",
       "    }\n",
       "\n",
       "    .dataframe thead th {\n",
       "        text-align: right;\n",
       "    }\n",
       "</style>\n",
       "<table border=\"1\" class=\"dataframe\">\n",
       "  <thead>\n",
       "    <tr style=\"text-align: right;\">\n",
       "      <th></th>\n",
       "      <th>pop_est</th>\n",
       "      <th>continent</th>\n",
       "      <th>name</th>\n",
       "      <th>gdp_md_est</th>\n",
       "      <th>geometry</th>\n",
       "    </tr>\n",
       "    <tr>\n",
       "      <th>iso_a3</th>\n",
       "      <th></th>\n",
       "      <th></th>\n",
       "      <th></th>\n",
       "      <th></th>\n",
       "      <th></th>\n",
       "    </tr>\n",
       "  </thead>\n",
       "  <tbody>\n",
       "    <tr>\n",
       "      <th>FJI</th>\n",
       "      <td>889953.0</td>\n",
       "      <td>Oceania</td>\n",
       "      <td>Fiji</td>\n",
       "      <td>5496</td>\n",
       "      <td>MULTIPOLYGON (((180.00000 -16.06713, 180.00000...</td>\n",
       "    </tr>\n",
       "    <tr>\n",
       "      <th>TZA</th>\n",
       "      <td>58005463.0</td>\n",
       "      <td>Africa</td>\n",
       "      <td>Tanzania</td>\n",
       "      <td>63177</td>\n",
       "      <td>POLYGON ((33.90371 -0.95000, 34.07262 -1.05982...</td>\n",
       "    </tr>\n",
       "    <tr>\n",
       "      <th>ESH</th>\n",
       "      <td>603253.0</td>\n",
       "      <td>Africa</td>\n",
       "      <td>W. Sahara</td>\n",
       "      <td>907</td>\n",
       "      <td>POLYGON ((-8.66559 27.65643, -8.66512 27.58948...</td>\n",
       "    </tr>\n",
       "    <tr>\n",
       "      <th>CAN</th>\n",
       "      <td>37589262.0</td>\n",
       "      <td>North America</td>\n",
       "      <td>Canada</td>\n",
       "      <td>1736425</td>\n",
       "      <td>MULTIPOLYGON (((-122.84000 49.00000, -122.9742...</td>\n",
       "    </tr>\n",
       "    <tr>\n",
       "      <th>USA</th>\n",
       "      <td>328239523.0</td>\n",
       "      <td>North America</td>\n",
       "      <td>United States of America</td>\n",
       "      <td>21433226</td>\n",
       "      <td>MULTIPOLYGON (((-122.84000 49.00000, -120.0000...</td>\n",
       "    </tr>\n",
       "  </tbody>\n",
       "</table>\n",
       "</div>"
      ],
      "text/plain": [
       "            pop_est      continent                      name  gdp_md_est  \\\n",
       "iso_a3                                                                     \n",
       "FJI        889953.0        Oceania                      Fiji        5496   \n",
       "TZA      58005463.0         Africa                  Tanzania       63177   \n",
       "ESH        603253.0         Africa                 W. Sahara         907   \n",
       "CAN      37589262.0  North America                    Canada     1736425   \n",
       "USA     328239523.0  North America  United States of America    21433226   \n",
       "\n",
       "                                                 geometry  \n",
       "iso_a3                                                     \n",
       "FJI     MULTIPOLYGON (((180.00000 -16.06713, 180.00000...  \n",
       "TZA     POLYGON ((33.90371 -0.95000, 34.07262 -1.05982...  \n",
       "ESH     POLYGON ((-8.66559 27.65643, -8.66512 27.58948...  \n",
       "CAN     MULTIPOLYGON (((-122.84000 49.00000, -122.9742...  \n",
       "USA     MULTIPOLYGON (((-122.84000 49.00000, -120.0000...  "
      ]
     },
     "execution_count": 16,
     "metadata": {},
     "output_type": "execute_result"
    }
   ],
   "source": [
    "#mapa\n",
    "\n",
    "world = gpd.read_file(gpd.datasets.get_path(\"naturalearth_lowres\"))\n",
    "world = world.set_index(\"iso_a3\")\n",
    "\n",
    "world.head()"
   ]
  },
  {
   "cell_type": "code",
   "execution_count": null,
   "metadata": {
    "colab": {
     "base_uri": "https://localhost:8080/"
    },
    "id": "0qkBCMSUflw_",
    "outputId": "dd9c73f1-8324-403d-9586-844ffb584bd6"
   },
   "outputs": [
    {
     "data": {
      "text/plain": [
       "array(['Fiji', 'Tanzania', 'W. Sahara', 'Canada',\n",
       "       'United States of America', 'Kazakhstan', 'Uzbekistan',\n",
       "       'Papua New Guinea', 'Indonesia', 'Argentina', 'Chile',\n",
       "       'Dem. Rep. Congo', 'Somalia', 'Kenya', 'Sudan', 'Chad', 'Haiti',\n",
       "       'Dominican Rep.', 'Russia', 'Bahamas', 'Falkland Is.', 'Norway',\n",
       "       'Greenland', 'Fr. S. Antarctic Lands', 'Timor-Leste',\n",
       "       'South Africa', 'Lesotho', 'Mexico', 'Uruguay', 'Brazil',\n",
       "       'Bolivia', 'Peru', 'Colombia', 'Panama', 'Costa Rica', 'Nicaragua',\n",
       "       'Honduras', 'El Salvador', 'Guatemala', 'Belize', 'Venezuela',\n",
       "       'Guyana', 'Suriname', 'France', 'Ecuador', 'Puerto Rico',\n",
       "       'Jamaica', 'Cuba', 'Zimbabwe', 'Botswana', 'Namibia', 'Senegal',\n",
       "       'Mali', 'Mauritania', 'Benin', 'Niger', 'Nigeria', 'Cameroon',\n",
       "       'Togo', 'Ghana', \"Côte d'Ivoire\", 'Guinea', 'Guinea-Bissau',\n",
       "       'Liberia', 'Sierra Leone', 'Burkina Faso', 'Central African Rep.',\n",
       "       'Congo', 'Gabon', 'Eq. Guinea', 'Zambia', 'Malawi', 'Mozambique',\n",
       "       'eSwatini', 'Angola', 'Burundi', 'Israel', 'Lebanon', 'Madagascar',\n",
       "       'Palestine', 'Gambia', 'Tunisia', 'Algeria', 'Jordan',\n",
       "       'United Arab Emirates', 'Qatar', 'Kuwait', 'Iraq', 'Oman',\n",
       "       'Vanuatu', 'Cambodia', 'Thailand', 'Laos', 'Myanmar', 'Vietnam',\n",
       "       'North Korea', 'South Korea', 'Mongolia', 'India', 'Bangladesh',\n",
       "       'Bhutan', 'Nepal', 'Pakistan', 'Afghanistan', 'Tajikistan',\n",
       "       'Kyrgyzstan', 'Turkmenistan', 'Iran', 'Syria', 'Armenia', 'Sweden',\n",
       "       'Belarus', 'Ukraine', 'Poland', 'Austria', 'Hungary', 'Moldova',\n",
       "       'Romania', 'Lithuania', 'Latvia', 'Estonia', 'Germany', 'Bulgaria',\n",
       "       'Greece', 'Turkey', 'Albania', 'Croatia', 'Switzerland',\n",
       "       'Luxembourg', 'Belgium', 'Netherlands', 'Portugal', 'Spain',\n",
       "       'Ireland', 'New Caledonia', 'Solomon Is.', 'New Zealand',\n",
       "       'Australia', 'Sri Lanka', 'China', 'Taiwan', 'Italy', 'Denmark',\n",
       "       'United Kingdom', 'Iceland', 'Azerbaijan', 'Georgia',\n",
       "       'Philippines', 'Malaysia', 'Brunei', 'Slovenia', 'Finland',\n",
       "       'Slovakia', 'Czechia', 'Eritrea', 'Japan', 'Paraguay', 'Yemen',\n",
       "       'Saudi Arabia', 'Antarctica', 'N. Cyprus', 'Cyprus', 'Morocco',\n",
       "       'Egypt', 'Libya', 'Ethiopia', 'Djibouti', 'Somaliland', 'Uganda',\n",
       "       'Rwanda', 'Bosnia and Herz.', 'Macedonia', 'Serbia', 'Montenegro',\n",
       "       'Kosovo', 'Trinidad and Tobago', 'S. Sudan'], dtype=object)"
      ]
     },
     "execution_count": 43,
     "metadata": {},
     "output_type": "execute_result"
    }
   ],
   "source": [
    "#graficar el mapa\n",
    "world.name.unique()"
   ]
  },
  {
   "cell_type": "code",
   "execution_count": 17,
   "metadata": {
    "colab": {
     "base_uri": "https://localhost:8080/",
     "height": 476
    },
    "id": "swDogh7dfusl",
    "outputId": "666073c5-77ef-4a17-d146-5d7be00e6f1d"
   },
   "outputs": [
    {
     "name": "stderr",
     "output_type": "stream",
     "text": [
      "findfont: Font family 'Source Sans Pro' not found.\n",
      "findfont: Font family 'Source Sans Pro' not found.\n",
      "findfont: Font family 'Source Sans Pro' not found.\n",
      "findfont: Font family 'Source Sans Pro' not found.\n",
      "findfont: Font family 'Source Sans Pro' not found.\n",
      "findfont: Font family 'Source Sans Pro' not found.\n",
      "findfont: Font family 'Source Sans Pro' not found.\n",
      "findfont: Font family 'Source Sans Pro' not found.\n",
      "findfont: Font family 'Source Sans Pro' not found.\n",
      "findfont: Font family 'Source Sans Pro' not found.\n",
      "findfont: Font family 'Source Sans Pro' not found.\n",
      "findfont: Font family 'Source Sans Pro' not found.\n",
      "findfont: Font family 'Source Sans Pro' not found.\n",
      "findfont: Font family 'Source Sans Pro' not found.\n",
      "findfont: Font family 'Source Sans Pro' not found.\n",
      "findfont: Font family 'Source Sans Pro' not found.\n",
      "findfont: Font family 'Source Sans Pro' not found.\n",
      "findfont: Font family 'Source Sans Pro' not found.\n",
      "findfont: Font family 'Source Sans Pro' not found.\n",
      "findfont: Font family 'Source Sans Pro' not found.\n",
      "findfont: Font family 'Source Sans Pro' not found.\n",
      "findfont: Font family 'Source Sans Pro' not found.\n",
      "findfont: Font family 'Source Sans Pro' not found.\n",
      "findfont: Font family 'Source Sans Pro' not found.\n",
      "findfont: Font family 'Source Sans Pro' not found.\n",
      "findfont: Font family 'Source Sans Pro' not found.\n",
      "findfont: Font family 'Source Sans Pro' not found.\n",
      "findfont: Font family 'Source Sans Pro' not found.\n",
      "findfont: Font family 'Source Sans Pro' not found.\n",
      "findfont: Font family 'Source Sans Pro' not found.\n",
      "findfont: Font family 'Source Sans Pro' not found.\n",
      "findfont: Font family 'Source Sans Pro' not found.\n",
      "findfont: Font family 'Source Sans Pro' not found.\n",
      "findfont: Font family 'Source Sans Pro' not found.\n",
      "findfont: Font family 'Source Sans Pro' not found.\n",
      "findfont: Font family 'Source Sans Pro' not found.\n",
      "findfont: Font family 'Source Sans Pro' not found.\n",
      "findfont: Font family 'Source Sans Pro' not found.\n",
      "findfont: Font family 'Source Sans Pro' not found.\n",
      "findfont: Font family 'Source Sans Pro' not found.\n",
      "findfont: Font family 'Source Sans Pro' not found.\n",
      "findfont: Font family 'Source Sans Pro' not found.\n",
      "findfont: Font family 'Source Sans Pro' not found.\n",
      "findfont: Font family 'Source Sans Pro' not found.\n",
      "findfont: Font family 'Source Sans Pro' not found.\n",
      "findfont: Font family 'Source Sans Pro' not found.\n",
      "findfont: Font family 'Source Sans Pro' not found.\n",
      "findfont: Font family 'Source Sans Pro' not found.\n",
      "findfont: Font family 'Source Sans Pro' not found.\n",
      "findfont: Font family 'Source Sans Pro' not found.\n",
      "findfont: Font family 'Source Sans Pro' not found.\n",
      "findfont: Font family 'Source Sans Pro' not found.\n",
      "findfont: Font family 'Source Sans Pro' not found.\n",
      "findfont: Font family 'Source Sans Pro' not found.\n",
      "findfont: Font family 'Source Sans Pro' not found.\n",
      "findfont: Font family 'Source Sans Pro' not found.\n",
      "findfont: Font family 'Source Sans Pro' not found.\n",
      "findfont: Font family 'Source Sans Pro' not found.\n",
      "findfont: Font family 'Source Sans Pro' not found.\n",
      "findfont: Font family 'Source Sans Pro' not found.\n",
      "findfont: Font family 'Source Sans Pro' not found.\n",
      "findfont: Font family 'Source Sans Pro' not found.\n",
      "findfont: Font family 'Source Sans Pro' not found.\n",
      "findfont: Font family 'Source Sans Pro' not found.\n",
      "findfont: Font family 'Source Sans Pro' not found.\n",
      "findfont: Font family 'Source Sans Pro' not found.\n",
      "findfont: Font family 'Source Sans Pro' not found.\n"
     ]
    },
    {
     "data": {
      "image/png": "[encoded data removed]",
      "text/plain": [
       "<Figure size 1000x1000 with 1 Axes>"
      ]
     },
     "metadata": {},
     "output_type": "display_data"
    }
   ],
   "source": [
    "fig, gax = plt.subplots(figsize=(10,10))\n",
    "\n",
    "# By only plotting rows in which the continent is 'South America' we only plot SA.\n",
    "world.query(\"name == 'United States of America'\").plot(ax=gax, edgecolor='black',color='white')\n",
    "\n",
    "# By the way, if you haven't read the book 'longitude' by Dava Sobel, you should...\n",
    "gax.set_xlabel('longitude')\n",
    "gax.set_ylabel('latitude')\n",
    "\n",
    "gax.spines['top'].set_visible(False)\n",
    "gax.spines['right'].set_visible(False)"
   ]
  },
  {
   "cell_type": "code",
   "execution_count": 18,
   "metadata": {
    "colab": {
     "base_uri": "https://localhost:8080/",
     "height": 381
    },
    "id": "OR0ydTOvf_Xp",
    "outputId": "9138b4b8-6c2f-4887-bb39-b34e92c6aac4"
   },
   "outputs": [
    {
     "name": "stderr",
     "output_type": "stream",
     "text": [
      "findfont: Font family 'Source Sans Pro' not found.\n",
      "findfont: Font family 'Source Sans Pro' not found.\n",
      "findfont: Font family 'Source Sans Pro' not found.\n",
      "findfont: Font family 'Source Sans Pro' not found.\n",
      "findfont: Font family 'Source Sans Pro' not found.\n",
      "findfont: Font family 'Source Sans Pro' not found.\n",
      "findfont: Font family 'Source Sans Pro' not found.\n",
      "findfont: Font family 'Source Sans Pro' not found.\n",
      "findfont: Font family 'Source Sans Pro' not found.\n",
      "findfont: Font family 'Source Sans Pro' not found.\n",
      "findfont: Font family 'Source Sans Pro' not found.\n",
      "findfont: Font family 'Source Sans Pro' not found.\n",
      "findfont: Font family 'Source Sans Pro' not found.\n",
      "findfont: Font family 'Source Sans Pro' not found.\n",
      "findfont: Font family 'Source Sans Pro' not found.\n",
      "findfont: Font family 'Source Sans Pro' not found.\n",
      "findfont: Font family 'Source Sans Pro' not found.\n",
      "findfont: Font family 'Source Sans Pro' not found.\n",
      "findfont: Font family 'Source Sans Pro' not found.\n",
      "findfont: Font family 'Source Sans Pro' not found.\n",
      "findfont: Font family 'Source Sans Pro' not found.\n",
      "findfont: Font family 'Source Sans Pro' not found.\n",
      "findfont: Font family 'Source Sans Pro' not found.\n",
      "findfont: Font family 'Source Sans Pro' not found.\n",
      "findfont: Font family 'Source Sans Pro' not found.\n",
      "findfont: Font family 'Source Sans Pro' not found.\n",
      "findfont: Font family 'Source Sans Pro' not found.\n",
      "findfont: Font family 'Source Sans Pro' not found.\n",
      "findfont: Font family 'Source Sans Pro' not found.\n",
      "findfont: Font family 'Source Sans Pro' not found.\n",
      "findfont: Font family 'Source Sans Pro' not found.\n",
      "findfont: Font family 'Source Sans Pro' not found.\n",
      "findfont: Font family 'Source Sans Pro' not found.\n",
      "findfont: Font family 'Source Sans Pro' not found.\n",
      "findfont: Font family 'Source Sans Pro' not found.\n",
      "findfont: Font family 'Source Sans Pro' not found.\n",
      "findfont: Font family 'Source Sans Pro' not found.\n",
      "findfont: Font family 'Source Sans Pro' not found.\n",
      "findfont: Font family 'Source Sans Pro' not found.\n",
      "findfont: Font family 'Source Sans Pro' not found.\n",
      "findfont: Font family 'Source Sans Pro' not found.\n",
      "findfont: Font family 'Source Sans Pro' not found.\n",
      "findfont: Font family 'Source Sans Pro' not found.\n",
      "findfont: Font family 'Source Sans Pro' not found.\n",
      "findfont: Font family 'Source Sans Pro' not found.\n",
      "findfont: Font family 'Source Sans Pro' not found.\n",
      "findfont: Font family 'Source Sans Pro' not found.\n",
      "findfont: Font family 'Source Sans Pro' not found.\n",
      "findfont: Font family 'Source Sans Pro' not found.\n",
      "findfont: Font family 'Source Sans Pro' not found.\n",
      "findfont: Font family 'Source Sans Pro' not found.\n",
      "findfont: Font family 'Source Sans Pro' not found.\n",
      "findfont: Font family 'Source Sans Pro' not found.\n",
      "findfont: Font family 'Source Sans Pro' not found.\n",
      "findfont: Font family 'Source Sans Pro' not found.\n",
      "findfont: Font family 'Source Sans Pro' not found.\n",
      "findfont: Font family 'Source Sans Pro' not found.\n",
      "findfont: Font family 'Source Sans Pro' not found.\n",
      "findfont: Font family 'Source Sans Pro' not found.\n",
      "findfont: Font family 'Source Sans Pro' not found.\n",
      "findfont: Font family 'Source Sans Pro' not found.\n",
      "findfont: Font family 'Source Sans Pro' not found.\n",
      "findfont: Font family 'Source Sans Pro' not found.\n",
      "findfont: Font family 'Source Sans Pro' not found.\n",
      "findfont: Font family 'Source Sans Pro' not found.\n",
      "findfont: Font family 'Source Sans Pro' not found.\n",
      "findfont: Font family 'Source Sans Pro' not found.\n",
      "findfont: Font family 'Source Sans Pro' not found.\n",
      "findfont: Font family 'Source Sans Pro' not found.\n",
      "findfont: Font family 'Source Sans Pro' not found.\n"
     ]
    },
    {
     "data": {
      "image/png": "[encoded data removed]",
      "text/plain": [
       "<Figure size 1000x1000 with 1 Axes>"
      ]
     },
     "metadata": {},
     "output_type": "display_data"
    }
   ],
   "source": [
    "# Step 3: Plot the cities onto the map\n",
    "# We mostly use the code from before --- we still want the country borders plotted --- and we\n",
    "# add a command to plot the cities\n",
    "fig, gax = plt.subplots(figsize=(10,10))\n",
    "\n",
    "# By only plotting rows in which the continent is 'South America' we only plot, well,\n",
    "# South America.\n",
    "world.query(\"name == 'United States of America'\").plot(ax = gax, edgecolor='black', color='white')\n",
    "\n",
    "# This plot the cities. It's the same syntax, but we are plotting from a different GeoDataFrame.\n",
    "# I want the cities as pale red dots.\n",
    "gdf.plot(ax=gax, color='red', alpha = 0.5)\n",
    "\n",
    "gax.set_xlabel('longitude')\n",
    "gax.set_ylabel('latitude')\n",
    "gax.set_title('Target en Estados Unidos')\n",
    "\n",
    "gax.spines['top'].set_visible(False)\n",
    "gax.spines['right'].set_visible(False)\n",
    "\n",
    "plt.show()"
   ]
  },
  {
   "cell_type": "markdown",
   "metadata": {
    "id": "SMkonhsqfgSf"
   },
   "source": [
    "¿qué tal ahora?, tiene mayor sentido verdad, entonces los datos lejanos no eran atípicos, de aquí la importancia de ver los datos con el tipo de gráfica correcta.\n",
    "\n",
    "Ahora sí, implementa K means a los datos de latitud y longitud :) y encuentra donde colocar los almacenes. \n",
    "\n",
    "Nota: si te llama la atención implementar alguna otra visualización con otra librería, lo puedes hacer, no hay restricciones."
   ]
  },
  {
   "cell_type": "code",
   "execution_count": null,
   "metadata": {
    "id": "IfXq2ieSgD2e"
   },
   "outputs": [],
   "source": [
    "#tu codigo aquí\n",
    "\n",
    "X = df[[\"longitude\",\"latitude\"]]\n",
    "#VAMOS A GRAFICAR PARA SABER CUÁNTOS CLUSTERS(ALMACENES) VAMOS A IMPLEMENTAR K-MEANS:\n",
    "Nc = range(1, 20)\n",
    "kmeans = [KMeans(n_clusters=i) for i in Nc]\n",
    "kmeans\n",
    "score = [kmeans[i].fit(X).score(X) for i in range(len(kmeans))]\n",
    "score\n",
    "plt.subplots(figsize=(10,10))\n",
    "plt.plot(Nc,score)\n",
    "plt.xlabel('Number of Clusters')\n",
    "plt.ylabel('Score')\n",
    "plt.title('Elbow Curve')\n",
    "plt.show()"
   ]
  },
  {
   "cell_type": "code",
   "execution_count": null,
   "metadata": {},
   "outputs": [],
   "source": []
  }
 ],
 "metadata": {
  "colab": {
   "provenance": []
  },
  "kernelspec": {
   "display_name": "Python 3 (ipykernel)",
   "language": "python",
   "name": "python3"
  },
  "language_info": {
   "codemirror_mode": {
    "name": "ipython",
    "version": 3
   },
   "file_extension": ".py",
   "mimetype": "text/x-python",
   "name": "python",
   "nbconvert_exporter": "python",
   "pygments_lexer": "ipython3",
   "version": "3.10.7"
  }
 },
 "nbformat": 4,
 "nbformat_minor": 4
}
