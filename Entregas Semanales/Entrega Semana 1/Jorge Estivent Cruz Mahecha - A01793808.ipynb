{
  "nbformat": 4,
  "nbformat_minor": 0,
  "metadata": {
    "colab": {
      "provenance": [],
      "authorship_tag": "ABX9TyNKqy2Lvs8fgewgCTXlhL0E",
      "include_colab_link": true
    },
    "kernelspec": {
      "name": "python3",
      "display_name": "Python 3"
    },
    "language_info": {
      "name": "python"
    }
  },
  "cells": [
    {
      "cell_type": "markdown",
      "metadata": {
        "id": "view-in-github",
        "colab_type": "text"
      },
      "source": [
        "<a href=\"https://colab.research.google.com/github/PosgradoMNA/actividades-de-aprendizaje-joshiecruz/blob/main/Jorge%20Estivent%20Cruz%20Mahecha%20-%20A01793808.ipynb\" target=\"_parent\"><img src=\"https://colab.research.google.com/assets/colab-badge.svg\" alt=\"Open In Colab\"/></a>"
      ]
    },
    {
      "cell_type": "code",
      "execution_count": null,
      "metadata": {
        "id": "hRzIqW_KsrGV",
        "colab": {
          "base_uri": "https://localhost:8080/"
        },
        "outputId": "c8e880ba-6eed-4d4b-8c67-ac57500271ae"
      },
      "outputs": [
        {
          "output_type": "stream",
          "name": "stdout",
          "text": [
            "Hello Python 101\n",
            "Hello Python 102\n"
          ]
        }
      ],
      "source": [
        "# print Hello Python 101\n",
        "print(\"Hello Python 101\")\n",
        "print(\"Hello Python 102\")"
      ]
    },
    {
      "cell_type": "code",
      "source": [
        "# Types in Python\n",
        "#float(2):2.0\n",
        "43-60\n",
        "my_variable=1\n",
        "x=160\n",
        "y=x/6\n",
        "print(y)\n",
        "\n",
        "total_min=43+42+57\n",
        "total_hr= total_min/60"
      ],
      "metadata": {
        "colab": {
          "base_uri": "https://localhost:8080/"
        },
        "id": "ACOj_HaxGVf3",
        "outputId": "3015d7cb-76a0-4986-d25f-36fc37ee13f7"
      },
      "execution_count": null,
      "outputs": [
        {
          "output_type": "stream",
          "name": "stdout",
          "text": [
            "26.666666666666668\n"
          ]
        }
      ]
    },
    {
      "cell_type": "code",
      "source": [
        "import sys\n",
        "\n",
        "print(sys.version)"
      ],
      "metadata": {
        "colab": {
          "base_uri": "https://localhost:8080/"
        },
        "id": "k7jJBawzJNgI",
        "outputId": "d975441b-8e77-46bf-9c7b-2239a4d38bd3"
      },
      "execution_count": null,
      "outputs": [
        {
          "output_type": "stream",
          "name": "stdout",
          "text": [
            "3.7.14 (default, Sep  8 2022, 00:06:44) \n",
            "[GCC 7.5.0]\n"
          ]
        }
      ]
    },
    {
      "cell_type": "code",
      "source": [
        "type(12)\n",
        "type(2.14)\n",
        "type(\"hello world\")\n",
        "type(-1)"
      ],
      "metadata": {
        "colab": {
          "base_uri": "https://localhost:8080/"
        },
        "id": "zaB9IopfKJbt",
        "outputId": "1c2e70b5-f182-4505-eed1-ae590ac2f7ee"
      },
      "execution_count": null,
      "outputs": [
        {
          "output_type": "execute_result",
          "data": {
            "text/plain": [
              "int"
            ]
          },
          "metadata": {},
          "execution_count": 4
        }
      ]
    },
    {
      "cell_type": "code",
      "source": [
        "type(float(2))\n",
        "int(\"1\")\n",
        "str(1)\n",
        "type(False)"
      ],
      "metadata": {
        "colab": {
          "base_uri": "https://localhost:8080/"
        },
        "id": "CO-B6jxlKt6N",
        "outputId": "188666ba-22a4-47fd-c06a-fadea9576f9e"
      },
      "execution_count": null,
      "outputs": [
        {
          "output_type": "execute_result",
          "data": {
            "text/plain": [
              "bool"
            ]
          },
          "metadata": {},
          "execution_count": 9
        }
      ]
    },
    {
      "cell_type": "code",
      "source": [
        "name= 'lizz'\n",
        "print(name[0:2])"
      ],
      "metadata": {
        "id": "AUepzjJSRuKW",
        "outputId": "61dbb6b5-ed67-4717-e63c-2ca058062241",
        "colab": {
          "base_uri": "https://localhost:8080/"
        }
      },
      "execution_count": null,
      "outputs": [
        {
          "output_type": "stream",
          "name": "stdout",
          "text": [
            "li\n"
          ]
        }
      ]
    },
    {
      "cell_type": "code",
      "source": [
        "var=\"01234567\"\n",
        "print(var[::2])"
      ],
      "metadata": {
        "id": "1xzltbg3SCaz",
        "outputId": "c3eb8f9e-837c-41e6-8661-3a650475cd0d",
        "colab": {
          "base_uri": "https://localhost:8080/"
        }
      },
      "execution_count": null,
      "outputs": [
        {
          "output_type": "stream",
          "name": "stdout",
          "text": [
            "0246\n"
          ]
        }
      ]
    },
    {
      "cell_type": "code",
      "source": [
        "len ((\"disco\",10,1.2,\"hard rock\", 10))"
      ],
      "metadata": {
        "id": "A9k-JMG-YZtD",
        "outputId": "03d0d998-f920-4668-c296-8191dbabf47b",
        "colab": {
          "base_uri": "https://localhost:8080/"
        }
      },
      "execution_count": null,
      "outputs": [
        {
          "output_type": "execute_result",
          "data": {
            "text/plain": [
              "5"
            ]
          },
          "metadata": {},
          "execution_count": 2
        }
      ]
    },
    {
      "cell_type": "code",
      "source": [
        "tuple_1 = (\"Pink Floyd\", 40, 2.2)\n",
        "tuple_1\n",
        "type(tuple_1)"
      ],
      "metadata": {
        "id": "c9TyDy4sY4hy",
        "colab": {
          "base_uri": "https://localhost:8080/"
        },
        "outputId": "a3576dd7-e030-4015-b7cb-b01b68686652"
      },
      "execution_count": 1,
      "outputs": [
        {
          "output_type": "execute_result",
          "data": {
            "text/plain": [
              "tuple"
            ]
          },
          "metadata": {},
          "execution_count": 1
        }
      ]
    },
    {
      "cell_type": "code",
      "source": [
        "print(tuple_1[0])\n",
        "print(tuple_1[1])\n",
        "print(tuple_1[2])"
      ],
      "metadata": {
        "colab": {
          "base_uri": "https://localhost:8080/"
        },
        "id": "FASEUrKTR4hK",
        "outputId": "c8783d2d-188d-462f-c831-0f80b1a7b1a6"
      },
      "execution_count": 2,
      "outputs": [
        {
          "output_type": "stream",
          "name": "stdout",
          "text": [
            "Pink Floyd\n",
            "40\n",
            "2.2\n"
          ]
        }
      ]
    },
    {
      "cell_type": "code",
      "source": [
        "print(type(tuple_1[0]))\n",
        "print(type(tuple_1[1]))\n",
        "print(type(tuple_1[2]))"
      ],
      "metadata": {
        "colab": {
          "base_uri": "https://localhost:8080/"
        },
        "id": "QvnpBACRR-qg",
        "outputId": "f58d250d-7ba3-4935-fb40-bc9dd3b63a94"
      },
      "execution_count": 3,
      "outputs": [
        {
          "output_type": "stream",
          "name": "stdout",
          "text": [
            "<class 'str'>\n",
            "<class 'int'>\n",
            "<class 'float'>\n"
          ]
        }
      ]
    },
    {
      "cell_type": "code",
      "source": [
        "tuple_1[-1]"
      ],
      "metadata": {
        "colab": {
          "base_uri": "https://localhost:8080/"
        },
        "id": "80ShoRGOSAzU",
        "outputId": "0f79e13a-566f-4d7e-8828-ee0aa51cd4cf"
      },
      "execution_count": 4,
      "outputs": [
        {
          "output_type": "execute_result",
          "data": {
            "text/plain": [
              "2.2"
            ]
          },
          "metadata": {},
          "execution_count": 4
        }
      ]
    },
    {
      "cell_type": "code",
      "source": [
        "tuple_2 = tuple_1 + ('Progressive Rock', 10)\n",
        "tuple_2"
      ],
      "metadata": {
        "colab": {
          "base_uri": "https://localhost:8080/"
        },
        "id": "UOC2YKzkSOQE",
        "outputId": "55ac4860-0000-44cf-82eb-a6476f22eb74"
      },
      "execution_count": 5,
      "outputs": [
        {
          "output_type": "execute_result",
          "data": {
            "text/plain": [
              "('Pink Floyd', 40, 2.2, 'Progressive Rock', 10)"
            ]
          },
          "metadata": {},
          "execution_count": 5
        }
      ]
    },
    {
      "cell_type": "code",
      "source": [
        "\n",
        "tuple_2[3:5]\n",
        "\n",
        "\n"
      ],
      "metadata": {
        "colab": {
          "base_uri": "https://localhost:8080/"
        },
        "id": "6ZJKtyweSTwd",
        "outputId": "eaeb6cb2-85cc-42d3-a508-d919835b69cb"
      },
      "execution_count": 6,
      "outputs": [
        {
          "output_type": "execute_result",
          "data": {
            "text/plain": [
              "('Progressive Rock', 10)"
            ]
          },
          "metadata": {},
          "execution_count": 6
        }
      ]
    },
    {
      "cell_type": "code",
      "source": [
        "\n",
        "\n",
        "len(tuple_2)"
      ],
      "metadata": {
        "colab": {
          "base_uri": "https://localhost:8080/"
        },
        "id": "mU5YBFnaShVM",
        "outputId": "da317d2f-91e8-4ebf-dfab-b412ea077698"
      },
      "execution_count": 7,
      "outputs": [
        {
          "output_type": "execute_result",
          "data": {
            "text/plain": [
              "5"
            ]
          },
          "metadata": {},
          "execution_count": 7
        }
      ]
    },
    {
      "cell_type": "code",
      "source": [
        "results = (8, 5, 22, 57, 1, 3, 7, 48, 22, 44)\n",
        "\n",
        "results_sorted = sorted(results)\n",
        "results_sorted"
      ],
      "metadata": {
        "colab": {
          "base_uri": "https://localhost:8080/"
        },
        "id": "QiL1t5-mSniD",
        "outputId": "51322d88-e188-4f65-c1bf-4000e0430f30"
      },
      "execution_count": 9,
      "outputs": [
        {
          "output_type": "execute_result",
          "data": {
            "text/plain": [
              "[1, 3, 5, 7, 8, 22, 22, 44, 48, 57]"
            ]
          },
          "metadata": {},
          "execution_count": 9
        }
      ]
    }
  ]
}