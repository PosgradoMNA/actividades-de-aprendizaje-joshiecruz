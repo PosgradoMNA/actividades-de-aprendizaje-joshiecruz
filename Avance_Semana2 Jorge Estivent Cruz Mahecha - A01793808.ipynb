{
  "nbformat": 4,
  "nbformat_minor": 0,
  "metadata": {
    "colab": {
      "name": "assignment01.ipynb",
      "provenance": [],
      "include_colab_link": true
    },
    "kernelspec": {
      "name": "python3",
      "display_name": "Python 3"
    },
    "language_info": {
      "name": "python"
    }
  },
  "cells": [
    {
      "cell_type": "markdown",
      "metadata": {
        "id": "view-in-github",
        "colab_type": "text"
      },
      "source": [
        "<a href=\"https://colab.research.google.com/github/PosgradoMNA/actividades-de-aprendizaje-joshiecruz/blob/main/Avance_Semana2%20Jorge%20Estivent%20Cruz%20Mahecha%20-%20A01793808.ipynb\" target=\"_parent\"><img src=\"https://colab.research.google.com/assets/colab-badge.svg\" alt=\"Open In Colab\"/></a>"
      ]
    },
    {
      "cell_type": "markdown",
      "source": [
        "<center>\n",
        "    <img src=\"https://cf-courses-data.s3.us.cloud-object-storage.appdomain.cloud/IBMDeveloperSkillsNetwork-PY0101EN-SkillsNetwork/IDSNlogo.png\" width=\"300\" alt=\"cognitiveclass.ai logo\"  />\n",
        "</center>\n",
        "\n",
        "<h3> Get to Know a Pandas Array </h3>\n",
        "\n",
        "You will use the dataframe <code>df</code> for the following:\n",
        "\n",
        "import pandas as pd\n",
        "\n",
        "df=pd.DataFrame({'a':[1,2,1],'b':[1,1,1]})\n",
        "1.  Find the unique values in column <code> 'a' </code>:\n",
        "\n",
        "df['a'].unique()\n",
        "<details><summary>Click here for the solution</summary>\n",
        "\n",
        "```python\n",
        "df['a'].unique()\n",
        "    \n",
        "```\n",
        "\n",
        "</details>\n",
        "\n",
        "2.  Return a dataframe with only the rows where column <code> a </code> is less than two:\n",
        "\n",
        "df[df['a']<2]\n",
        "<details><summary>Click here for the solution</summary>\n",
        "\n",
        "```python\n",
        "df[df['a']<2]\n",
        "    \n",
        "```\n",
        "\n",
        "</details>\n",
        "\n",
        "<hr>\n",
        "\n",
        "<h3 align=\"center\"> © IBM Corporation 2020. All rights reserved. <h3/>\n"
      ],
      "metadata": {
        "id": "2jEDSqxvU_RE"
      }
    },
    {
      "cell_type": "code",
      "source": [],
      "metadata": {
        "id": "mxM_WppZPMFx"
      },
      "execution_count": null,
      "outputs": []
    }
  ]
}